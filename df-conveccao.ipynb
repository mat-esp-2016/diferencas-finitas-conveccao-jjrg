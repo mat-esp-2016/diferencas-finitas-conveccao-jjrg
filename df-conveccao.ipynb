{
 "cells": [
  {
   "cell_type": "markdown",
   "metadata": {},
   "source": [
    "# Método das diferenças finitas: Convecção"
   ]
  },
  {
   "cell_type": "markdown",
   "metadata": {},
   "source": [
    "Vamos resolver a equação de convecção:\n",
    "\n",
    "$$\\frac{\\partial u}{\\partial t} + c \\frac{\\partial u}{\\partial x} = 0$$"
   ]
  },
  {
   "cell_type": "markdown",
   "metadata": {},
   "source": [
    "## Setup"
   ]
  },
  {
   "cell_type": "code",
   "execution_count": 14,
   "metadata": {
    "collapsed": true
   },
   "outputs": [],
   "source": [
    "%matplotlib inline\n",
    "import numpy as np\n",
    "import matplotlib.pyplot as plt"
   ]
  },
  {
   "cell_type": "markdown",
   "metadata": {},
   "source": [
    "As células abaixo definem funções que criam o domínio e as condições iniciais."
   ]
  },
  {
   "cell_type": "code",
   "execution_count": 15,
   "metadata": {
    "collapsed": false
   },
   "outputs": [],
   "source": [
    "def cria_dominios(tamanho, Nx, duração, Nt):\n",
    "    \"\"\"\n",
    "    Cria o domínio espacial e calcula os intervalos de tempo e espaço.\n",
    "    \"\"\"\n",
    "    x = np.linspace(0, tamanho, Nx)\n",
    "    dx = x[1] - x[0]\n",
    "    dt = duração/(Nt - 1)\n",
    "    return x, dx, dt"
   ]
  },
  {
   "cell_type": "code",
   "execution_count": 16,
   "metadata": {
    "collapsed": false
   },
   "outputs": [
    {
     "name": "stdout",
     "output_type": "stream",
     "text": [
      "dx = 0.04 dt = 0.02\n"
     ]
    }
   ],
   "source": [
    "x, dx, dt = cria_dominios(tamanho=2, Nx=51, duração=1, Nt=51)\n",
    "print('dx =', dx, 'dt =', dt)"
   ]
  },
  {
   "cell_type": "code",
   "execution_count": 17,
   "metadata": {
    "collapsed": true
   },
   "outputs": [],
   "source": [
    "def cria_cond_inicial(x):\n",
    "    \"\"\"\n",
    "    Cria um vetor de condições iniciais u0 com uma função degrau.\n",
    "    \"\"\"\n",
    "    u0 = np.ones(x.size)\n",
    "    u0[(x >= 0.2) & (x <= 0.5)] = 2\n",
    "    return u0"
   ]
  },
  {
   "cell_type": "code",
   "execution_count": 18,
   "metadata": {
    "collapsed": false
   },
   "outputs": [
    {
     "data": {
      "text/plain": [
       "(0, 3)"
      ]
     },
     "execution_count": 18,
     "metadata": {},
     "output_type": "execute_result"
    },
    {
     "data": {
      "image/png": "[encoded data removed]",
      "text/plain": [
       "<matplotlib.figure.Figure at 0x2127924e9e8>"
      ]
     },
     "metadata": {},
     "output_type": "display_data"
    }
   ],
   "source": [
    "u0 = cria_cond_inicial(x)\n",
    "\n",
    "plt.figure()\n",
    "plt.plot(x, u0, '.-k')\n",
    "plt.xlabel('x')\n",
    "plt.ylabel('u')\n",
    "plt.title('u0')\n",
    "plt.ylim(0, 3)"
   ]
  },
  {
   "cell_type": "markdown",
   "metadata": {},
   "source": [
    "## Tarefa 1\n",
    "\n",
    "Complete a função abaixo que executa 1 único passo no tempo utilizando diferenças progressivas no tempo e regressivas no espaço."
   ]
  },
  {
   "cell_type": "code",
   "execution_count": 19,
   "metadata": {
    "collapsed": false
   },
   "outputs": [],
   "source": [
    "def passo_no_tempo(u_passado, dx, dt, velocidade):\n",
    "    u_futuro = u_passado.copy()\n",
    "    Nx = len(u_passado)\n",
    "    u_futuro[0]=1 #determinamos nossa condição de contorno, no caso, o valor do primero elemento do nosso dominio\n",
    "    for k in range(1,Nx):\n",
    "#Utilizamos o for e range para definir as posições dos elementos com base em u_passado.\n",
    "#Ressaltando que começamos apartir do segundo elemento, visto que o primeiro esta dentro da condição de contorno.\n",
    "        u_futuro[k] = u_passado[k]- velocidade*(dt/dx)*(u_passado[k]-u_passado[k-1]) \n",
    "        #Adequamos a função passada em aula para fazer o cálculo de cada elemento de acordo com o k (Sendo k a posição, variando com base nas posições de u_passado)  \n",
    "    return u_futuro"
   ]
  },
  {
   "cell_type": "markdown",
   "metadata": {},
   "source": [
    "Use as células abaixo para checar se sua função funciona."
   ]
  },
  {
   "cell_type": "code",
   "execution_count": 20,
   "metadata": {
    "collapsed": false
   },
   "outputs": [],
   "source": [
    "u1 = passo_no_tempo(u0, dx, dt, velocidade=1)"
   ]
  },
  {
   "cell_type": "code",
   "execution_count": 21,
   "metadata": {
    "collapsed": false
   },
   "outputs": [
    {
     "data": {
      "text/plain": [
       "(0, 3)"
      ]
     },
     "execution_count": 21,
     "metadata": {},
     "output_type": "execute_result"
    },
    {
     "data": {
      "image/png": "[encoded data removed]",
      "text/plain": [
       "<matplotlib.figure.Figure at 0x212792a4898>"
      ]
     },
     "metadata": {},
     "output_type": "display_data"
    }
   ],
   "source": [
    "plt.figure()\n",
    "plt.plot(x, u0, '--r')\n",
    "plt.plot(x, u1, '.-k')\n",
    "plt.xlabel('x')\n",
    "plt.ylabel('u')\n",
    "plt.ylim(0, 3)"
   ]
  },
  {
   "cell_type": "markdown",
   "metadata": {},
   "source": [
    "## Tarefa 2\n",
    "\n",
    "Complete a função abaixo que executa uma simulação completa de diferenças finitas (utilizando as funções definidas acima) para uma deterimada duração."
   ]
  },
  {
   "cell_type": "code",
   "execution_count": 22,
   "metadata": {
    "collapsed": true
   },
   "outputs": [],
   "source": [
    "def simula(tamanho, Nx, duração, Nt, velocidade):\n",
    "    x, dx, dt = cria_dominios(tamanho, Nx, duração, Nt) #acrescentamos a função que determina o dominio\n",
    "    u0 = cria_cond_inicial(x) #acrescentamos a função que nos da a condição inicial\n",
    "    u_passado = u0 #definimos u_passado começando da condição inicial\n",
    "    for j in range(Nt): \n",
    "#para que ela funcionasse por uma determinada duração acresentamos o for e range para que a função rodasse dentro da variação de tempo\n",
    "        u_futuro = passo_no_tempo(u_passado, dx, dt, velocidade) #acrescetamos a função para calcular u_futuro\n",
    "        u_passado = u_futuro\n",
    "#designamos que u_passado seria igual a u_futuro, assim cada vez que ele rodar usara como base u anterior e não somente o u0.\n",
    "    return x, u0, u_futuro"
   ]
  },
  {
   "cell_type": "markdown",
   "metadata": {},
   "source": [
    "Utilize as células abaixo para checar o resultado da sua função."
   ]
  },
  {
   "cell_type": "code",
   "execution_count": 23,
   "metadata": {
    "collapsed": false
   },
   "outputs": [],
   "source": [
    "x, u0, u_futuro = simula(tamanho=2, Nx=51, duração=1, Nt=51, velocidade=1)"
   ]
  },
  {
   "cell_type": "code",
   "execution_count": 24,
   "metadata": {
    "collapsed": false
   },
   "outputs": [
    {
     "data": {
      "text/plain": [
       "(0, 3)"
      ]
     },
     "execution_count": 24,
     "metadata": {},
     "output_type": "execute_result"
    },
    {
     "data": {
      "image/png": "[encoded data removed]",
      "text/plain": [
       "<matplotlib.figure.Figure at 0x21279267208>"
      ]
     },
     "metadata": {},
     "output_type": "display_data"
    }
   ],
   "source": [
    "plt.figure()\n",
    "plt.plot(x, u0, '--r')\n",
    "plt.plot(x, u_futuro, '.-k')\n",
    "plt.xlabel('x')\n",
    "plt.ylabel('u')\n",
    "plt.ylim(0, 3)"
   ]
  },
  {
   "cell_type": "markdown",
   "metadata": {},
   "source": [
    "### O que aconteceu com o resultado no final da simulação? Isso deveria acontecer?"
   ]
  },
  {
   "cell_type": "markdown",
   "metadata": {},
   "source": [
    "Neste caso ele foi suavizado devido ao fato de delta (x) ter valor distante de zero, mostrando um grafico diferente do esperado. Para que isso não aconteça é necessario pegar intervalos diferentes de delta(x) de acordo com o tempo."
   ]
  },
  {
   "cell_type": "markdown",
   "metadata": {},
   "source": [
    "## Tarefa 3\n",
    "\n",
    "Faça uma figura com o resultado da simulação para diferentes valores `Nx` (utilize a lista abaixo). Inclua uma legenda no seu gráfico."
   ]
  },
  {
   "cell_type": "code",
   "execution_count": 25,
   "metadata": {
    "collapsed": true
   },
   "outputs": [],
   "source": [
    "valores_de_Nx = [51, 71, 91, 101, 111]"
   ]
  },
  {
   "cell_type": "code",
   "execution_count": 26,
   "metadata": {
    "collapsed": false
   },
   "outputs": [
    {
     "data": {
      "text/plain": [
       "(0, 3)"
      ]
     },
     "execution_count": 26,
     "metadata": {},
     "output_type": "execute_result"
    },
    {
     "data": {
      "image/png": "[encoded data removed]",
      "text/plain": [
       "<matplotlib.figure.Figure at 0x212792e6390>"
      ]
     },
     "metadata": {},
     "output_type": "display_data"
    }
   ],
   "source": [
    "plt.figure() #serve para criar uma imagem vazia para receber todos os graficos juntos.\n",
    "for Nx in valores_de_Nx: \n",
    "#usamos for  para variar nx, assim conseguimos criar a representação para cada u dentro do grafico.\n",
    "    x, u0, u_futuro = simula(tamanho=2, Nx=Nx, duração=1, Nt=51, velocidade=1)\n",
    "    plt.plot(x, u_futuro, '.-')\n",
    "plt.plot(x, u0, '--r')\n",
    "plt.legend(valores_de_Nx, loc=0) # com a legenda podemos localizar a u mais similar a u0\n",
    "plt.xlabel('x')\n",
    "plt.ylabel('u')\n",
    "plt.ylim(0, 3)"
   ]
  },
  {
   "cell_type": "markdown",
   "metadata": {},
   "source": [
    "### O método é igualmente preciso para todos os valores de Nx?"
   ]
  },
  {
   "cell_type": "markdown",
   "metadata": {},
   "source": [
    "Não. Pois alguns intervalos de delta(x) fazem com que o grafico 'exploda' ou continue suavizado."
   ]
  },
  {
   "cell_type": "markdown",
   "metadata": {},
   "source": [
    "## Bônus\n",
    "\n",
    "Complete a função abaixo que executa a simulação completa mas dessa vez guarda cada passo da simulação. A função deve gerar uma lista `u` que contem o valor de $u$ de cada iteração.\n",
    "\n",
    "Complete o código que gera um gráfico com o valor de `u` a cada 10 iterações. Ou seja, o gráfico deve conter `u[0]`, `u[10]`, `u[20]`, etc."
   ]
  },
  {
   "cell_type": "code",
   "execution_count": 40,
   "metadata": {
    "collapsed": true
   },
   "outputs": [],
   "source": [
    "def simula_grava(tamanho, Nx, duração, Nt, velocidade): #usamos as funçoes já informadas pelo professor\n",
    "    x, dx, dt = cria_dominios(tamanho, Nx, duração, Nt)\n",
    "    u0 = cria_cond_inicial(x)\n",
    "    u_passado = u0 #consideramos u_passado começando da condição inicial\n",
    "    u=[] #criamos uma lista vazia para receber nosso resultado\n",
    "    for j in range(Nt): #usamos o for para variar no tempo\n",
    "        u_futuro = passo_no_tempo(u_passado, dx, dt, velocidade) \n",
    "        #usamos uma função definida em uma das tarefas anteriores\n",
    "        u_passado = u_futuro  \n",
    "        #essa igualdade serve para que o proximo u_futuro seja de acordo com o u definido pela função passo_tempo   \n",
    "        u.append(u_futuro) #salvamos os resultados na lista definida anteriormente\n",
    "    return x, u"
   ]
  },
  {
   "cell_type": "code",
   "execution_count": 41,
   "metadata": {
    "collapsed": true
   },
   "outputs": [],
   "source": [
    "x, u = simula_grava(tamanho=2, Nx=51, duração=1, Nt=51, velocidade=1)"
   ]
  },
  {
   "cell_type": "code",
   "execution_count": 42,
   "metadata": {
    "collapsed": false
   },
   "outputs": [
    {
     "data": {
      "text/plain": [
       "<matplotlib.text.Text at 0x212794f05c0>"
      ]
     },
     "execution_count": 42,
     "metadata": {},
     "output_type": "execute_result"
    },
    {
     "data": {
      "image/png": "[encoded data removed]",
      "text/plain": [
       "<matplotlib.figure.Figure at 0x212792c0128>"
      ]
     },
     "metadata": {},
     "output_type": "display_data"
    }
   ],
   "source": [
    "plt.figure() #criamos uma figura vazia para receber os graficos\n",
    "for i in range(0,len(u),10):\n",
    "#usamos o for, range e len para plotar somente as funçoes que queriamos.\n",
    "#Começando do elemnto de indice 0 e pecorrrendo todos os elementos de u, de 10 em 10.\n",
    "    plt.plot(x,u[i])\n",
    "plt.plot(x,u[0], '--r')\n",
    "plt.xlabel('x')\n",
    "plt.ylabel('u')\n",
    "plt.ylim(0, 3)\n",
    "plt.title('Simulação completa (cada 10 iterações)')"
   ]
  },
  {
   "cell_type": "markdown",
   "metadata": {},
   "source": [
    "Extra:"
   ]
  },
  {
   "cell_type": "markdown",
   "metadata": {},
   "source": [
    "Fizemos  com o Nx, que apresentou representação grafica mais proximo do u0, observado no gráfico da tarefa 3."
   ]
  },
  {
   "cell_type": "code",
   "execution_count": 35,
   "metadata": {
    "collapsed": true
   },
   "outputs": [],
   "source": [
    "x, u = simula_grava(tamanho=2, Nx=101, duração=1, Nt=51, velocidade=1)"
   ]
  },
  {
   "cell_type": "code",
   "execution_count": 36,
   "metadata": {
    "collapsed": false
   },
   "outputs": [
    {
     "data": {
      "text/plain": [
       "<matplotlib.text.Text at 0x21279198d30>"
      ]
     },
     "execution_count": 36,
     "metadata": {},
     "output_type": "execute_result"
    },
    {
     "data": {
      "image/png": "[encoded data removed]",
      "text/plain": [
       "<matplotlib.figure.Figure at 0x21279131e80>"
      ]
     },
     "metadata": {},
     "output_type": "display_data"
    }
   ],
   "source": [
    "plt.figure()\n",
    "for i in range(0,len(u),10):\n",
    "    plt.plot(x,u[i],)\n",
    "plt.plot(x,u[0], '--r')\n",
    "plt.xlabel('x')\n",
    "plt.ylabel('u')\n",
    "plt.ylim(0, 3)\n",
    "plt.title('Simulação completa (cada 10 iterações)')"
   ]
  },
  {
   "cell_type": "markdown",
   "metadata": {},
   "source": [
    "**Course website**: https://github.com/mat-esp/about\n",
    "\n",
    "**Note**: This notebook is part of the course \"Matemática Especial I\" of the [Universidade do Estado do Rio de Janeiro](http://www.uerj.br/). All content can be freely used and adapted under the terms of the \n",
    "[Creative Commons Attribution 4.0 International License](http://creativecommons.org/licenses/by/4.0/).\n",
    "\n",
    "![Creative Commons License](https://i.creativecommons.org/l/by/4.0/88x31.png)"
   ]
  },
  {
   "cell_type": "code",
   "execution_count": null,
   "metadata": {
    "collapsed": true
   },
   "outputs": [],
   "source": []
  },
  {
   "cell_type": "code",
   "execution_count": null,
   "metadata": {
    "collapsed": true
   },
   "outputs": [],
   "source": []
  }
 ],
 "metadata": {
  "anaconda-cloud": {},
  "kernelspec": {
   "display_name": "Python [Root]",
   "language": "python",
   "name": "Python [Root]"
  },
  "language_info": {
   "codemirror_mode": {
    "name": "ipython",
    "version": 3
   },
   "file_extension": ".py",
   "mimetype": "text/x-python",
   "name": "python",
   "nbconvert_exporter": "python",
   "pygments_lexer": "ipython3",
   "version": "3.5.2"
  }
 },
 "nbformat": 4,
 "nbformat_minor": 0
}
